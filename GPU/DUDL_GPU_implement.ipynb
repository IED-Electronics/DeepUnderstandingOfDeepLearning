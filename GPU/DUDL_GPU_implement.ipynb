{
 "cells": [
  {
   "cell_type": "markdown",
   "metadata": {
    "id": "bhWV8oes-wKR"
   },
   "source": [
    "# COURSE: A deep understanding of deep learning\n",
    "## SECTION: Running models on a GPU\n",
    "### LECTURE: Implementation\n",
    "#### TEACHER: Mike X Cohen, sincxpress.com\n",
    "##### COURSE URL: udemy.com/course/deeplearning_x/?couponCode=202401"
   ]
  },
  {
   "cell_type": "code",
   "execution_count": 1,
   "metadata": {
    "id": "YeuAheYyhdZw"
   },
   "outputs": [],
   "source": [
    "# import libraries\n",
    "import torch\n",
    "import torch.nn as nn\n",
    "import matplotlib.pyplot as plt\n",
    "import time"
   ]
  },
  {
   "cell_type": "markdown",
   "metadata": {
    "id": "g0O-zq4UiM0P"
   },
   "source": [
    "# Select the processor device"
   ]
  },
  {
   "cell_type": "code",
   "execution_count": null,
   "metadata": {
    "id": "03MycVnQiRqO"
   },
   "outputs": [],
   "source": [
    "## Note: To run models on a GPU you must select from the menu:\n",
    "#   -> Runtime\n",
    "#     -> Change runtime type\n",
    "#       -> Hardware accelerator\n",
    "#         -> GPU"
   ]
  },
  {
   "cell_type": "code",
   "execution_count": 2,
   "metadata": {
    "id": "cThPRuj_iJA2"
   },
   "outputs": [
    {
     "name": "stdout",
     "output_type": "stream",
     "text": [
      "cuda:0\n"
     ]
    }
   ],
   "source": [
    "# use GPU\n",
    "device = torch.device('cuda:0' if torch.cuda.is_available() else 'cpu')\n",
    "print(device)"
   ]
  },
  {
   "cell_type": "markdown",
   "metadata": {
    "id": "rcumdem5jtiD"
   },
   "source": [
    "# Build a simple model"
   ]
  },
  {
   "cell_type": "code",
   "execution_count": 3,
   "metadata": {
    "id": "AMi1lQWOj09S"
   },
   "outputs": [],
   "source": [
    "net = nn.Sequential(\n",
    "    nn.Linear(20,100),\n",
    "    nn.ReLU(),\n",
    "    nn.Linear(100,500),\n",
    "    nn.ReLU(),\n",
    "    nn.Linear(500,30),\n",
    "    nn.ReLU(),\n",
    "    nn.Linear(30,2)\n",
    "      )"
   ]
  },
  {
   "cell_type": "markdown",
   "metadata": {
    "id": "TTfiVpw5j6Mq"
   },
   "source": [
    "# Make some data"
   ]
  },
  {
   "cell_type": "code",
   "execution_count": 4,
   "metadata": {
    "id": "A_AGHhXDj1UN"
   },
   "outputs": [],
   "source": [
    "# just some random fluff\n",
    "data   = torch.randn((1000,20)) # samples X features\n",
    "labels = torch.randint(low=0,high=2,size=(1,1000))"
   ]
  },
  {
   "cell_type": "markdown",
   "metadata": {
    "id": "laT9cpQcmA1l"
   },
   "source": [
    "# Send the model and the data to the GPU"
   ]
  },
  {
   "cell_type": "code",
   "execution_count": 5,
   "metadata": {
    "id": "nQzP_FXLj1QW"
   },
   "outputs": [],
   "source": [
    "# model\n",
    "net.to(device)\n",
    "\n",
    "# data\n",
    "data   = data.to(device)\n",
    "labels = labels.to(device)"
   ]
  },
  {
   "cell_type": "code",
   "execution_count": 6,
   "metadata": {
    "id": "b-uDroB7jPBe"
   },
   "outputs": [
    {
     "data": {
      "text/plain": [
       "tensor([[ 1.3024,  1.1906,  2.6934,  ...,  1.3682,  0.9409, -0.2256],\n",
       "        [-0.4460,  0.5794, -0.1755,  ..., -1.1655, -1.0131,  0.9762],\n",
       "        [ 0.2858,  2.6184,  0.6610,  ..., -0.6670,  0.4854, -0.3251],\n",
       "        ...,\n",
       "        [ 1.3257,  0.9320, -0.8994,  ...,  0.1330, -0.1400, -0.5049],\n",
       "        [-1.0257,  1.4597, -0.3388,  ..., -0.7439, -0.5316, -0.8961],\n",
       "        [ 0.5260,  1.3837,  1.1864,  ...,  1.2547, -1.0005,  0.8778]],\n",
       "       device='cuda:0')"
      ]
     },
     "execution_count": 6,
     "metadata": {},
     "output_type": "execute_result"
    }
   ],
   "source": [
    "data"
   ]
  },
  {
   "cell_type": "code",
   "execution_count": 7,
   "metadata": {
    "id": "kCg4D6Hlfkgb"
   },
   "outputs": [
    {
     "name": "stdout",
     "output_type": "stream",
     "text": [
      "cuda:0\n",
      "cuda:0\n",
      "cpu\n"
     ]
    }
   ],
   "source": [
    "# you can also create data directly on the GPU\n",
    "dataG = torch.randn((1000,20),device=device)\n",
    "dataC = torch.randn((1000,20),device='cpu')\n",
    "\n",
    "print(data.device)\n",
    "print(dataG.device)\n",
    "print(dataC.device)"
   ]
  },
  {
   "cell_type": "markdown",
   "metadata": {
    "id": "9yrwlRyQj1dF"
   },
   "source": [
    "# Getting results from the model"
   ]
  },
  {
   "cell_type": "code",
   "execution_count": 8,
   "metadata": {
    "id": "tryFiNSej1gF"
   },
   "outputs": [],
   "source": [
    "output = net(data)"
   ]
  },
  {
   "cell_type": "code",
   "execution_count": 9,
   "metadata": {
    "id": "_0-0zxQOj1it"
   },
   "outputs": [
    {
     "data": {
      "text/plain": [
       "device(type='cuda', index=0)"
      ]
     },
     "execution_count": 9,
     "metadata": {},
     "output_type": "execute_result"
    }
   ],
   "source": [
    "output.device"
   ]
  },
  {
   "cell_type": "code",
   "execution_count": 10,
   "metadata": {
    "id": "DQVKoRmWmUm5"
   },
   "outputs": [
    {
     "data": {
      "image/png": "[encoded data removed]",
      "text/plain": [
       "<Figure size 640x480 with 1 Axes>"
      ]
     },
     "metadata": {},
     "output_type": "display_data"
    }
   ],
   "source": [
    "# try to plot the data\n",
    "#plt.plot(output.detach());\n",
    "\n",
    "plt.plot(output.detach().cpu());"
   ]
  },
  {
   "cell_type": "markdown",
   "metadata": {
    "id": "VcNrG3HRnwms"
   },
   "source": [
    "# Experiment: Computation time"
   ]
  },
  {
   "cell_type": "code",
   "execution_count": 11,
   "metadata": {
    "id": "4lJBOELHnyJf"
   },
   "outputs": [],
   "source": [
    "# start the clock\n",
    "starttime = time.process_time()\n",
    "\n",
    "# move, run, retrieve\n",
    "device = 'cuda:0'\n",
    "net.to(device)\n",
    "data   = data.to(device)\n",
    "labels = labels.to(device)\n",
    "output = net(data).detach().cpu()\n",
    "\n",
    "# stop the clock\n",
    "GPUtime = 1000*(time.process_time() - starttime)"
   ]
  },
  {
   "cell_type": "code",
   "execution_count": 12,
   "metadata": {
    "id": "a3o-SgmMnyMG"
   },
   "outputs": [],
   "source": [
    "# start the clock\n",
    "starttime = time.process_time()\n",
    "\n",
    "# move, run, retrieve\n",
    "device = 'cpu'\n",
    "net.to(device)\n",
    "data   = data.to(device)\n",
    "labels = labels.to(device)\n",
    "output = net(data).detach().cpu()\n",
    "\n",
    "# stop the clock\n",
    "CPUtime = 1000*(time.process_time() - starttime)"
   ]
  },
  {
   "cell_type": "code",
   "execution_count": 13,
   "metadata": {
    "id": "hzYccKwjnyOw"
   },
   "outputs": [
    {
     "data": {
      "text/plain": [
       "[10.324310999999753, 3.0309620000004145]"
      ]
     },
     "execution_count": 13,
     "metadata": {},
     "output_type": "execute_result"
    }
   ],
   "source": [
    "# time in ms\n",
    "[CPUtime,GPUtime]"
   ]
  },
  {
   "cell_type": "code",
   "execution_count": null,
   "metadata": {
    "id": "Bo5dt4Nipprn"
   },
   "outputs": [],
   "source": [
    "# but maybe \"sending\" it to the CPU takes too much overhead?"
   ]
  },
  {
   "cell_type": "code",
   "execution_count": 14,
   "metadata": {
    "id": "J-NvS5tvnyRX"
   },
   "outputs": [
    {
     "data": {
      "text/plain": [
       "[2.7544330000006667, 10.324310999999753, 3.0309620000004145]"
      ]
     },
     "execution_count": 14,
     "metadata": {},
     "output_type": "execute_result"
    }
   ],
   "source": [
    "# recreate network and data\n",
    "net  = nn.Sequential(nn.Linear(20,100),nn.ReLU(),nn.Linear(100,500),nn.ReLU(),nn.Linear(500,30),nn.ReLU(),nn.Linear(30,2))\n",
    "data = torch.randn((1000,20))\n",
    "\n",
    "# rerun the experiment\n",
    "starttime = time.process_time()\n",
    "output    = net(data).detach()\n",
    "CPUtime2  = 1000*(time.process_time() - starttime)\n",
    "\n",
    "# report the results\n",
    "[CPUtime2,CPUtime,GPUtime]"
   ]
  },
  {
   "cell_type": "code",
   "execution_count": null,
   "metadata": {
    "id": "dJ1p2lXWkSdl"
   },
   "outputs": [],
   "source": []
  }
 ],
 "metadata": {
  "accelerator": "GPU",
  "colab": {
   "authorship_tag": "ABX9TyO6Sbwn18acQD5H5eD06W+E",
   "collapsed_sections": [],
   "name": "DUDL_GPU_implement.ipynb",
   "provenance": []
  },
  "kernelspec": {
   "display_name": "Python 3 (ipykernel)",
   "language": "python",
   "name": "python3"
  },
  "language_info": {
   "codemirror_mode": {
    "name": "ipython",
    "version": 3
   },
   "file_extension": ".py",
   "mimetype": "text/x-python",
   "name": "python",
   "nbconvert_exporter": "python",
   "pygments_lexer": "ipython3",
   "version": "3.12.4"
  }
 },
 "nbformat": 4,
 "nbformat_minor": 0
}
